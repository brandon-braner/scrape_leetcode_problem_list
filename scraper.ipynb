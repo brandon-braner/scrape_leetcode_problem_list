{
 "cells": [
  {
   "cell_type": "code",
   "execution_count": 6,
   "metadata": {},
   "outputs": [
    {
     "name": "stderr",
     "output_type": "stream",
     "text": [
      "/Users/brandonbraner/projects/leetcode_scrape/.venv/lib/python3.12/site-packages/agentql/ext/playwright/sync_api/_utils_sync.py:46: RuntimeWarning: coroutine 'Page.evaluate' was never awaited\n",
      "  page.evaluate(load_js(\"add_dom_change_listener\"))\n",
      "RuntimeWarning: Enable tracemalloc to get the object allocation traceback\n",
      "INFO:agentql:AgentQL query execution may take longer than expected, especially for complex queries and lengthy webpages. If you notice no activity in the logs, please be patient—the query is still in progress and has not frozen. The current timeout is set to 900 seconds, so you can expect a response within that timeframe. If a timeout error occurs, consider extending the timeout duration to give AgentQL backend more time to finish the work.\n",
      "INFO:httpx:HTTP Request: POST https://api.agentql.com/api/v2/query-data \"HTTP/1.1 200 OK\"\n"
     ]
    }
   ],
   "source": [
    "\"\"\"This script serves as a skeleton template for asynchronous AgentQL scripts.\"\"\"\n",
    "\n",
    "import logging\n",
    "import asyncio\n",
    "\n",
    "import agentql\n",
    "from agentql.ext.playwright.async_api import Page\n",
    "from playwright.async_api import async_playwright\n",
    "import polars as pl\n",
    "\n",
    "# Set up logging\n",
    "logging.basicConfig(level=logging.INFO)\n",
    "log = logging.getLogger(__name__)\n",
    "\n",
    "URL = \"https://leetcode.com/studyplan/leetcode-75/\"\n",
    "\n",
    "\n",
    "async def main():\n",
    "    async with async_playwright() as p:\n",
    "        browser = await p.chromium.launch(headless=False)\n",
    "        try:\n",
    "            # Create a new page in the browser and wrap it to get access to the AgentQL's querying API\n",
    "            page = agentql.wrap(await browser.new_page())\n",
    "\n",
    "            # Navigate to the desired URL\n",
    "            await page.goto(URL)\n",
    "\n",
    "            return await get_response(page)\n",
    "        finally:\n",
    "            await browser.close()\n",
    "\n",
    "\n",
    "async def get_response(page: Page) -> dict:\n",
    "    query = \"\"\"\n",
    "{\n",
    "    problems[] {\n",
    "        problem_name,\n",
    "        section_title,\n",
    "        difficulty,\n",
    "        pill_items[]\n",
    "    }\n",
    "}\n",
    "    \"\"\"\n",
    "\n",
    "    return await page.query_data(query)\n",
    "\n",
    "# In Jupyter, use this to run the async code:\n",
    "response = await main()\n",
    "\n"
   ]
  },
  {
   "cell_type": "code",
   "execution_count": 7,
   "metadata": {},
   "outputs": [
    {
     "data": {
      "text/plain": [
       "<xlsxwriter.workbook.Workbook at 0x11d976810>"
      ]
     },
     "execution_count": 7,
     "metadata": {},
     "output_type": "execute_result"
    }
   ],
   "source": [
    "# Create a dataframe from the response object problems\n",
    "df = pl.DataFrame(response['problems'])\n",
    "\n",
    "df.write_excel(\"leetcode-75.xlsx\")\n"
   ]
  }
 ],
 "metadata": {
  "kernelspec": {
   "display_name": ".venv",
   "language": "python",
   "name": "python3"
  },
  "language_info": {
   "codemirror_mode": {
    "name": "ipython",
    "version": 3
   },
   "file_extension": ".py",
   "mimetype": "text/x-python",
   "name": "python",
   "nbconvert_exporter": "python",
   "pygments_lexer": "ipython3",
   "version": "3.12.4"
  }
 },
 "nbformat": 4,
 "nbformat_minor": 2
}
